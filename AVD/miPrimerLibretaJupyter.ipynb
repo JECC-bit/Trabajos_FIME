{
 "cells": [
  {
   "cell_type": "markdown",
   "metadata": {},
   "source": [
    "# Mi primera libreta de Jupyter #\n",
    "## Jesus Eduardo Ceballos Contreras ##\n",
    "### 7 de Febrero de 2024 ###"
   ]
  },
  {
   "cell_type": "markdown",
   "metadata": {},
   "source": [
    "### Introducción a python ###\n"
   ]
  },
  {
   "cell_type": "code",
   "execution_count": 1,
   "metadata": {},
   "outputs": [
    {
     "name": "stdout",
     "output_type": "stream",
     "text": [
      "Holis mundo\n"
     ]
    }
   ],
   "source": [
    "print(\"Holis mundo\")"
   ]
  },
  {
   "cell_type": "code",
   "execution_count": 3,
   "metadata": {},
   "outputs": [
    {
     "name": "stdout",
     "output_type": "stream",
     "text": [
      "22\n"
     ]
    }
   ],
   "source": [
    "#Entrada de datos\n",
    "# Siempre que leemos valores desde el teclado, leemos en tipo de dato string\n",
    "edad = int(input(\"Ingresa tu edad: \")) #A esto se le llama casting o casteo\n",
    "print(\"Tu edad es: \", edad)"
   ]
  },
  {
   "cell_type": "code",
   "execution_count": 7,
   "metadata": {},
   "outputs": [
    {
     "name": "stdout",
     "output_type": "stream",
     "text": [
      "Tu edad es:  22\n",
      "Eres un vejestorio\n"
     ]
    }
   ],
   "source": [
    "#Agregamos estructuras selectivas\n",
    "\n",
    "edad = int(input(\"Ingresa tu edad: \")) \n",
    "print(\"Tu edad es: \", edad)\n",
    "\n",
    "if (edad >= 0 and edad < 3):\n",
    "    print(\"Eres un bebé\")\n",
    "\n",
    "elif (edad >= 3 and edad < 12):\n",
    "    print(\"Eres un niño\")\n",
    "\n",
    "elif (edad >= 12 and edad < 18):\n",
    "    print(\"Eres un adolescente\")\n",
    "\n",
    "else:\n",
    "    print(\"Eres un vejestorio\")"
   ]
  },
  {
   "cell_type": "code",
   "execution_count": 13,
   "metadata": {},
   "outputs": [
    {
     "name": "stdout",
     "output_type": "stream",
     "text": [
      "Elemento: 6\n",
      "Elemento: 5\n",
      "Elemento: 4\n",
      "Elemento: 3\n",
      "Elemento: 2\n",
      "Elemento: 1\n",
      "Elemento: 0\n",
      "Elemento: -1\n"
     ]
    }
   ],
   "source": [
    "\"\"\"\n",
    "Ejemplo de script usando estructuras repetitivas,\n",
    "estas estructuras nos permiten repetir un conjunto de instrucciones\n",
    "un número determinado de veces.\n",
    "\n",
    "\"\"\"\n",
    "\n",
    "for i in range(6, -2, -1):\n",
    "    print(\"Elemento: {}\".format(i))"
   ]
  },
  {
   "cell_type": "code",
   "execution_count": 17,
   "metadata": {},
   "outputs": [
    {
     "name": "stdout",
     "output_type": "stream",
     "text": [
      "-- Calculadora del IMC --\n",
      "Tu IMC es: 28.73\n",
      "Tienes sobrepeso\n"
     ]
    }
   ],
   "source": [
    "\"\"\"\n",
    "Este script permite calcular el IMC de una persona\n",
    "El IMC necesita 2 parámetros que son el peso en kilogramos y la estatura en metros\n",
    "es indicador del estado de la masa corporal, tiene varias clasificaciones\n",
    "Bajo peso, peso normal, sobrepeso, obecidad 1, obecidad 2 y obecidad morbida\n",
    "\n",
    "\"\"\"\n",
    "print(\"-- Calculadora del IMC --\")\n",
    "peso = float(input(\"Ingresa tu peso en kilogramos: \"))\n",
    "estatura = float(input(\"Ingresa tu estatura en metros: \"))\n",
    "\n",
    "# Aplicamos formula del IMC = (peso / estatura)**2\n",
    "\n",
    "imc = peso / estatura**2\n",
    "\n",
    "print(\"Tu IMC es: {:.2f}\".format(imc))\n",
    "\n",
    "if (imc < 18.5):\n",
    "    print(\"Tienes bajo peso\")\n",
    "\n",
    "elif (imc >= 18.5 and imc <= 24.9):\n",
    "    print(\"Tienes peso saludable\")\n",
    "\n",
    "elif (imc >= 25 and imc <= 29.9):\n",
    "    print(\"Tienes sobrepeso\")\n",
    "\n",
    "elif (imc >= 30):\n",
    "    print(\"Tienes obesidad\")\n"
   ]
  },
  {
   "cell_type": "markdown",
   "metadata": {},
   "source": [
    "### Funciones\n",
    "Las funciones permiten organizar el codigo en pequeñas fracciones que realizan tareas especificas.\n",
    "en python una funcion inicia con la palabra reservada **def** mas el identificador de la funcion y una lista de parámetros. "
   ]
  },
  {
   "cell_type": "code",
   "execution_count": 18,
   "metadata": {},
   "outputs": [
    {
     "name": "stdout",
     "output_type": "stream",
     "text": [
      "Holis, soy una funcion sin parametros y sin regreso de valores\n"
     ]
    }
   ],
   "source": [
    "# Funcion sin parametros\n",
    "def printMensaje():\n",
    "    print(\"Holis, soy una funcion sin parametros y sin regreso de valores\")\n",
    "\n",
    "#invocar funcion\n",
    "printMensaje()"
   ]
  },
  {
   "cell_type": "code",
   "execution_count": 19,
   "metadata": {},
   "outputs": [
    {
     "name": "stdout",
     "output_type": "stream",
     "text": [
      "Holis soy una funcion con parametros pero sin retorno de valores\n"
     ]
    }
   ],
   "source": [
    "# Funcion con parametros\n",
    "\n",
    "def printMensaje(msg):\n",
    "    print(msg)\n",
    "\n",
    "#invocar funcion\n",
    "printMensaje(\"Holis soy una funcion con parametros pero sin retorno de valores\") "
   ]
  },
  {
   "cell_type": "code",
   "execution_count": 25,
   "metadata": {},
   "outputs": [
    {
     "name": "stdout",
     "output_type": "stream",
     "text": [
      "La suma es: 5\n",
      "La resta es: 1\n"
     ]
    }
   ],
   "source": [
    "# Funcion con parametros y retorno de valores\n",
    "\n",
    "def sumaEnteros(num1, num2):\n",
    "    return num1 + num2\n",
    "\n",
    "def restaEnteros(num1, num2):\n",
    "    return num1 - num2\n",
    "\n",
    "def main():\n",
    "    #invocar funcion\n",
    "    print(\"La suma es: {}\".format(sumaEnteros(2, 3))) \n",
    "    #invocar funcion\n",
    "    print(\"La resta es: {}\".format(restaEnteros(3, 2))) \n",
    "\n",
    "if __name__ == \"__main__\":\n",
    "    main()"
   ]
  },
  {
   "cell_type": "code",
   "execution_count": 28,
   "metadata": {},
   "outputs": [
    {
     "name": "stdout",
     "output_type": "stream",
     "text": [
      "-- Calculadora del IMC --\n",
      "Tu IMC es: 7.10\n",
      "Tienes bajo peso\n",
      "-- Calculadora del IMC --\n",
      "Tu IMC es: 34.53\n",
      "Tienes obesidad\n",
      "Fin del programa, Gracias por usar la calculadora de IMC\n"
     ]
    }
   ],
   "source": [
    "def calculaIMC(peso, estatura):\n",
    "\n",
    "    # Aplicamos formula del IMC = (peso / estatura)**2\n",
    "\n",
    "    imc = peso / estatura**2\n",
    "    return imc\n",
    "\n",
    "#----------------------------------------------------------------\n",
    "# Funcion para determinar la categoria del imc\n",
    "#----------------------------------------------------------------\n",
    "\n",
    "def categoriaIMC(imc):\n",
    "\n",
    "    calc = \"\"\n",
    "\n",
    "    if (imc < 18.5):\n",
    "        calc = \"Tienes bajo peso\"\n",
    "\n",
    "    elif (imc >= 18.5 and imc <= 24.9):\n",
    "        calc = \"Tienes peso saludable\"\n",
    "\n",
    "    elif (imc >= 25 and imc <= 29.9):\n",
    "        calc = \"Tienes sobrepeso\"\n",
    "\n",
    "    elif (imc >= 30):\n",
    "        calc = \"Tienes obesidad\"\n",
    "\n",
    "    return calc\n",
    "\n",
    "def main():\n",
    "\n",
    "    ciclo = \"s\"\n",
    "\n",
    "    while ciclo == \"s\" or ciclo == \"S\":\n",
    "\n",
    "        print(\"-- Calculadora del IMC --\")\n",
    "        peso = float(input(\"Ingresa tu peso en kilogramos: \"))\n",
    "        estatura = float(input(\"Ingresa tu estatura en metros: \"))\n",
    "        imc = calculaIMC(peso, estatura)\n",
    "        print(\"Tu IMC es: {:.2f}\".format(imc))\n",
    "        print(categoriaIMC(imc))\n",
    "\n",
    "        # Establecemos la condicion de otro ciclo\n",
    "        ciclo = input(\"¿Otro Calculo de IMC? (S/N): \")\n",
    "    else:\n",
    "        print(\"Fin del programa, Gracias por usar la calculadora de IMC\")\n",
    "\n",
    "if __name__ == \"__main__\":\n",
    "    main()\n"
   ]
  },
  {
   "cell_type": "code",
   "execution_count": 31,
   "metadata": {},
   "outputs": [
    {
     "name": "stdout",
     "output_type": "stream",
     "text": [
      "[1, 1.23, 'Holis', False, []]\n"
     ]
    }
   ],
   "source": [
    "lista = []\n",
    "listaDos = []\n",
    "lista.append(1)\n",
    "lista.append(1.23)\n",
    "lista.append(\"Holis\")\n",
    "lista.append(False)\n",
    "lista.append(listaDos)\n",
    "print(lista)"
   ]
  }
 ],
 "metadata": {
  "kernelspec": {
   "display_name": "Python 3",
   "language": "python",
   "name": "python3"
  },
  "language_info": {
   "codemirror_mode": {
    "name": "ipython",
    "version": 3
   },
   "file_extension": ".py",
   "mimetype": "text/x-python",
   "name": "python",
   "nbconvert_exporter": "python",
   "pygments_lexer": "ipython3",
   "version": "3.10.11"
  }
 },
 "nbformat": 4,
 "nbformat_minor": 2
}
